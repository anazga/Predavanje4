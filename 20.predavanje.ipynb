{
 "cells": [
  {
   "cell_type": "markdown",
   "metadata": {},
   "source": [
    "# Numerička matematika - 20. predavanje"
   ]
  },
  {
   "cell_type": "markdown",
   "metadata": {},
   "source": [
    "## 1. Nelinearne jednadžbe u više dimenzija"
   ]
  },
  {
   "cell_type": "markdown",
   "metadata": {},
   "source": [
    "U sljedećem predavanju kratko opisujemo rješavanje nelinearnih jednadžbi u više dimenzija. Najviše ćemo se baviti Newtonovom metodom i njenim modifikacijama. Broydenova metoda je dana kao prikaz modifikacije Newtonove metode.\n",
    "\n"
   ]
  },
  {
   "cell_type": "code",
   "execution_count": 6,
   "metadata": {},
   "outputs": [
    {
     "data": {
      "image/jpeg": "[encoded data removed]",
      "text/html": [
       "\n",
       "        <iframe\n",
       "            width=\"400\"\n",
       "            height=\"300\"\n",
       "            src=\"https://www.youtube.com/embed/bYFwgPfUuCM\"\n",
       "            frameborder=\"0\"\n",
       "            allowfullscreen\n",
       "        ></iframe>\n",
       "        "
      ],
      "text/plain": [
       "<IPython.lib.display.YouTubeVideo at 0x1c2955a6320>"
      ]
     },
     "metadata": {},
     "output_type": "display_data"
    }
   ],
   "source": [
    "from IPython.lib.display import YouTubeVideo\n",
    "vid = YouTubeVideo(\"bYFwgPfUuCM\")\n",
    "display(vid)"
   ]
  },
  {
   "cell_type": "markdown",
   "metadata": {},
   "source": [
    "## 2. Vježbe"
   ]
  },
  {
   "cell_type": "markdown",
   "metadata": {},
   "source": [
    "Riješite na navedene primjere prateći postupak objašnjen u prethodnom videu, njihovo rješavanje bit će prikazano u kratkom videu.\n",
    "\n",
    "\n",
    "**Zadatak 1**  a) Napišite kako glasi Newtonov iteracijski postupak u više dimenzija za rješavanje sustava\n",
    "$\\mathbb{F}(\\mathbb{x})=0$\n",
    "gdje je $\\mathbb{F}:\\mathbb{R}^d\\rightarrow \\mathbb{R}^d$ i $\\mathbb{x}\\in \\mathbb{R}^d$, uz danu početnu vrijednost $\\mathbb{x}^0$.\n",
    "\n",
    "b) Izračunajte prvu iteraciju Newtonove metode za rješavanje sustava\n",
    "\\begin{align*}\n",
    "x_1^{2} -x_2^2=0\\\\\n",
    "2 x_1 x_2=0\n",
    "\\end{align*}\n",
    "pri  čemu je početna iteracija $\\mathbb{x}^0=[0,1]^T.$\n",
    "\n",
    "**Zadatak 2 ** Izračunajte prvu iteraciju Newtonove metode za rješavanje sustava\n",
    "\\begin{align*}\n",
    "x_1^{2} +x_2^2=1\\\\\n",
    " (x_1-2)^2+ (x_2-1)^2=4\n",
    "\\end{align*}\n",
    "pri  čemu je početna iteracija $\\mathbb{x}^0=[1,2]^T.$\n",
    "\n",
    "**Zadatak 3** Izračunajte prvu iteraciju Newtonove metode za rješavanje sustava\n",
    "\\begin{align*}\n",
    "x_1^{3} +x_2=1\\\\\n",
    " x_2^2- x_1=-1\n",
    "\\end{align*}\n",
    "pri  čemu je početna iteracija $\\mathbb{x}^0=[0.5,0.5]^T.$\n",
    "\n",
    "**Zadatak 4** Izračunajte drugu iteraciju Newtonove metode za rješavanje sustava\n",
    "\\begin{align*}\n",
    "x_1 +2x_2=2\\\\\n",
    " x_1^2+4 x_2^2=4\n",
    "\\end{align*}\n",
    "pri  čemu je početna iteracija $\\mathbb{x}^0=[1,2]^T.$\n"
   ]
  },
  {
   "cell_type": "code",
   "execution_count": null,
   "metadata": {},
   "outputs": [],
   "source": []
  }
 ],
 "metadata": {
  "kernelspec": {
   "display_name": "Python 3",
   "language": "python",
   "name": "python3"
  },
  "language_info": {
   "codemirror_mode": {
    "name": "ipython",
    "version": 3
   },
   "file_extension": ".py",
   "mimetype": "text/x-python",
   "name": "python",
   "nbconvert_exporter": "python",
   "pygments_lexer": "ipython3",
   "version": "3.6.4"
  }
 },
 "nbformat": 4,
 "nbformat_minor": 2
}
