{
 "cells": [
  {
   "cell_type": "markdown",
   "metadata": {},
   "source": [
    "# Gaussove eliminacije i LU rastav (nastavak)"
   ]
  },
  {
   "cell_type": "markdown",
   "metadata": {},
   "source": [
    "Implementacija funkcije koja računa $LU$ rastav matrice A"
   ]
  },
  {
   "cell_type": "code",
   "execution_count": 1,
   "metadata": {},
   "outputs": [],
   "source": [
    "import numpy as np\n",
    "def LU_dekompozicija(A):\n",
    "    n=len(A)\n",
    "    for k in range(0,n-1):\n",
    "        for i in range(k+1,n):\n",
    "            if A[i,k]!=0.0:\n",
    "                A[i,k]=A[i,k]/(A[k,k]) #multiplikator \n",
    "                A[i, k+1:n]=A[i, k+1:n]-A[i,k]*A[k, k+1:n]\n",
    "    return A\n",
    "    "
   ]
  },
  {
   "cell_type": "markdown",
   "metadata": {},
   "source": [
    "Funkciju ćemo primijeniti na matrici $$\\begin{bmatrix} 2& 1& 0\\\\ 4& 4& 5\\\\ 6& 7& 8\\end{bmatrix}$$\n",
    "Kao izlaz dobivamo matricu čiji gornji trokut je matrica $U$ a elementi ispod glavne dijagonale su elementi matrice $L$"
   ]
  },
  {
   "cell_type": "code",
   "execution_count": 13,
   "metadata": {},
   "outputs": [
    {
     "name": "stdout",
     "output_type": "stream",
     "text": [
      "[[ 2.  1.  3.]\n",
      " [ 2.  2. -1.]\n",
      " [ 3.  2.  1.]]\n"
     ]
    }
   ],
   "source": [
    "A=np.array([[2.0, 1.0, 3.0 ],[4.0, 4.0, 5.0], [6.0, 7.0, 8.0]])\n",
    "B=LU_dekompozicija(A)\n",
    "print(B)"
   ]
  },
  {
   "cell_type": "markdown",
   "metadata": {},
   "source": [
    "Matricu $L$ možemo dobiti preko funkcije np.tril (proučiti kako ova funkcija radi), a matricu $U$ pomoću **np.triu(ulazna matrica, id dijagonale)**\n",
    "\n",
    "Funkcija *tril(ulazna matrica, identifikator dijagonale )* vraća matricu koja uzima donji dio ulazne matrice ispod(i uključujući) dijagonalu s time da glavna dijagonala ima identfikator 1, dijagonala iznad nje 1 i dijagonala ispod -1 itd. Slično je sa funkcijom *triu(ulazna matrica, id dijagonale)*"
   ]
  },
  {
   "cell_type": "code",
   "execution_count": 14,
   "metadata": {},
   "outputs": [
    {
     "name": "stdout",
     "output_type": "stream",
     "text": [
      "[[1. 0. 0.]\n",
      " [2. 1. 0.]\n",
      " [3. 2. 1.]]\n"
     ]
    }
   ],
   "source": [
    "L=np.tril(A,-1)+np.identity(3)\n",
    "print(L)"
   ]
  },
  {
   "cell_type": "code",
   "execution_count": 101,
   "metadata": {},
   "outputs": [
    {
     "name": "stdout",
     "output_type": "stream",
     "text": [
      "[[ 2.  1.  3.]\n",
      " [ 0.  2. -1.]\n",
      " [ 0.  0.  1.]]\n"
     ]
    }
   ],
   "source": [
    "U=np.triu(A,0)\n",
    "print(U)"
   ]
  },
  {
   "cell_type": "markdown",
   "metadata": {},
   "source": [
    "Rješavanje sustava Ly=b (supstitucije unaprijed). u donjem kodu  funkcija np.dot(x,y) predstavja skalarni produkt vektora. (Dijagonalni elementi od $L$ su 1 pa nije ni potrebni dijeliti s dijagonalnim elementima u donjem kodu)"
   ]
  },
  {
   "cell_type": "code",
   "execution_count": 102,
   "metadata": {},
   "outputs": [],
   "source": [
    "def forward(L,b):\n",
    "# supstitucija unaprijed\n",
    "    b[0] = b[0] / L[0, 0]\n",
    "    n=len(L)\n",
    "    for i in range(1, n):\n",
    "        b[i] = (b[i] - np.dot(L[i,:i], b[:i])) / L[i,i]\n",
    "    return b"
   ]
  },
  {
   "cell_type": "code",
   "execution_count": 103,
   "metadata": {},
   "outputs": [],
   "source": [
    "b=np.array([[-1],[-1],[-2]])"
   ]
  },
  {
   "cell_type": "code",
   "execution_count": 104,
   "metadata": {},
   "outputs": [
    {
     "name": "stdout",
     "output_type": "stream",
     "text": [
      "[[-1]\n",
      " [ 1]\n",
      " [-1]]\n"
     ]
    }
   ],
   "source": [
    "y=forward(L,b)\n",
    "print(y)\n"
   ]
  },
  {
   "cell_type": "markdown",
   "metadata": {},
   "source": [
    "Rješavanje sustava $Ux=y$ odnosno povratne supstitucije"
   ]
  },
  {
   "cell_type": "code",
   "execution_count": 109,
   "metadata": {},
   "outputs": [],
   "source": [
    "def backward(U,b):\n",
    "# supstitucija unatrag\n",
    "    n=len(U)\n",
    "    for k in range(n-1,-1,-1):\n",
    "        b[k] = (b[k] - np.dot(U[k,k+1:n],b[k+1:n]))/U[k,k]\n",
    "    return b"
   ]
  },
  {
   "cell_type": "code",
   "execution_count": 110,
   "metadata": {},
   "outputs": [
    {
     "name": "stdout",
     "output_type": "stream",
     "text": [
      "[[ 1]\n",
      " [ 0]\n",
      " [-1]]\n"
     ]
    }
   ],
   "source": [
    "x=backward(U,y)\n",
    "print(x)"
   ]
  },
  {
   "cell_type": "markdown",
   "metadata": {},
   "source": [
    "U sljedećem videu možemo vidjeti rješenja zadataka koji su bili zadani na prethodnom predavanju"
   ]
  },
  {
   "cell_type": "code",
   "execution_count": 118,
   "metadata": {},
   "outputs": [
    {
     "data": {
      "text/html": [
       "\n",
       "        <iframe\n",
       "            width=\"400\"\n",
       "            height=\"300\"\n",
       "            src=\"https://www.youtube.com/embed/kzMaHhbHilI\"\n",
       "            frameborder=\"0\"\n",
       "            allowfullscreen\n",
       "        ></iframe>\n",
       "        "
      ],
      "text/plain": [
       "<IPython.lib.display.YouTubeVideo at 0x2192ec5ad68>"
      ]
     },
     "metadata": {},
     "output_type": "display_data"
    }
   ],
   "source": [
    "from IPython.lib.display import YouTubeVideo\n",
    "vid = YouTubeVideo(\"kzMaHhbHilI\")\n",
    "display(vid)"
   ]
  },
  {
   "cell_type": "markdown",
   "metadata": {},
   "source": [
    "## 1. Kako nastaje linearan sustav. Primjer trodijagonalnog sustava. Thomasov algoritam"
   ]
  },
  {
   "cell_type": "markdown",
   "metadata": {},
   "source": [
    "U ovom dijelu predavanja prikazat ćemo kako nastaje jedan trodijagonalni linearan sustav iz diskretizacije diferencijalne jednadžbe.\n"
   ]
  },
  {
   "cell_type": "code",
   "execution_count": 3,
   "metadata": {},
   "outputs": [
    {
     "data": {
      "image/jpeg": "[encoded data removed]",
      "text/html": [
       "\n",
       "        <iframe\n",
       "            width=\"400\"\n",
       "            height=\"300\"\n",
       "            src=\"https://www.youtube.com/embed/9vwZLHGMMGg\"\n",
       "            frameborder=\"0\"\n",
       "            allowfullscreen\n",
       "        ></iframe>\n",
       "        "
      ],
      "text/plain": [
       "<IPython.lib.display.YouTubeVideo at 0x17ab7b82be0>"
      ]
     },
     "metadata": {},
     "output_type": "display_data"
    }
   ],
   "source": [
    "from IPython.lib.display import YouTubeVideo\n",
    "vid = YouTubeVideo(\"9vwZLHGMMGg\")\n",
    "display(vid)"
   ]
  },
  {
   "cell_type": "markdown",
   "metadata": {},
   "source": [
    "**Napomena** U gornjem videu na str6. za $i=5$ je pogreška (ne treba lijevu stranu množiti s $\\frac{1}{h^2}$ jer je već faktor $h^2$ već na desnoj strani)\n",
    "\n",
    "**Zadatak** Razmislite o implementaciji Thomasovog algoritma iz prethodnog video predavanja kojeg primijenjujemo za rješavanje diferencijelne jednadžbe i po volji odabranu desnu stranu! Također svoje rješenje prikažite grafički i usporedite s točnim rješenjem! Ovdje će implementacija biti dodana do početka sljedećeg predavanja!"
   ]
  },
  {
   "cell_type": "markdown",
   "metadata": {},
   "source": [
    "# Rješenje zadatka zadanog na prethodnom predavanju\n",
    "Najprije definiramo funkciju koja kao izlaz ima vektore iz LU dekompozicije trodijagonalne matrice. Dakle ako je matrica oblika\n",
    "$$A=\\begin{bmatrix}\n",
    "b_{1} & c_{1} &    &    &  &  &   \\\\\n",
    "a_2   & b_{2} & c_2  &   &    &    \\\\\n",
    "&  a_3  & b_3 & c_3    &   &    \\\\\n",
    "&     &  \\ddots &  \\ddots & \\ddots &    \\\\\n",
    "&     &   &  a_{n-1} & b_{n-1} &  c_{n-1}   \\\\\n",
    "&   &  &  & a_{n} & b_{n}\n",
    "\\end{bmatrix}$$\n",
    "\n",
    "u donjem ćemo kodu zapravo imati vektore\n",
    "$$b=\\left[b_0,\\ldots,b_{n-1}\\right]$$\n",
    "$$a=\\left[a_0,\\ldots,a_{n-2}\\right]$$\n",
    "$$c=\\left[c_0,\\ldots,c_{n-2}\\right]$$\n",
    "\n",
    "buduci da Python indeksira vektore od 0. Ova funkcija izlaze ponovno posprema u navedene vektore. Dakle vektor koji predstavlja prvu donju dijagonalu matrice $L$ je pospremljen u vektor $a$, dok je vektor glavne dijagonale matrice $U$ pospremljen u vektor $b$ a vektor prve gornje dijagonale matrice $U$ pospremljen je u vektor $c$."
   ]
  },
  {
   "cell_type": "code",
   "execution_count": 2,
   "metadata": {},
   "outputs": [],
   "source": [
    "def LUdecomptridiagonal(a,b,c):\n",
    "    n=len(b)\n",
    "    for k in range(1,n):\n",
    "        mu=a[k-1]/b[k-1]\n",
    "        b[k]=b[k]-mu*c[k-1]\n",
    "        a[k-1]=mu\n",
    "    return a,b,c"
   ]
  },
  {
   "cell_type": "markdown",
   "metadata": {},
   "source": [
    "Sada definiramo funkciju koja za dane ulazne vektore (koji predstavljaju donju dijagonalu matrice $L$, glavnu i gornju dijagonalu matrice $U$) rješava sustav $Ax=f$ koristeći $LU$ rastv matrice $A$. Pri tome rješenje sprema u vektor $f$"
   ]
  },
  {
   "cell_type": "code",
   "execution_count": 30,
   "metadata": {},
   "outputs": [],
   "source": [
    "def LUsolvetridiagonal(a,b,c,f):\n",
    "    n=len(b)\n",
    "    for k in range(1,n):\n",
    "        f[k]=f[k]-a[k-1]*f[k-1]\n",
    "    f[n-1]=f[n-1]/b[n-1]\n",
    "    for k in range(n-2,-1,-1):\n",
    "        f[k]=(f[k]-c[k]*f[k+1])/b[k]\n",
    "    return f"
   ]
  },
  {
   "cell_type": "markdown",
   "metadata": {},
   "source": [
    "u doljnjem dijelu koda postavljamo elemente svih ulaznih vektora. Zašto ovako izgledaju -vidi video iznad ove implementacije"
   ]
  },
  {
   "cell_type": "code",
   "execution_count": 87,
   "metadata": {},
   "outputs": [],
   "source": [
    "def  set_abcf(x, alpha, beta):\n",
    "    n=len(x)-2\n",
    "    h=1.0/(n+1)\n",
    "    f=np.ones((n))*h*h\n",
    "    b=np.ones((n))*2.0\n",
    "    a=np.ones((n-1))*(-1)\n",
    "    c=np.ones((n-1))*(-1)\n",
    "    for i in range(1,n+1):\n",
    "        f[i-1]=f[i-1]*RHS_b(x[i])\n",
    "    f[0]=f[0]+alpha\n",
    "    f[n-1]=f[n-1]+ beta\n",
    "    return a, b, c, f"
   ]
  },
  {
   "cell_type": "markdown",
   "metadata": {},
   "source": [
    "Ovdje definiamo desnu strnu našeg problema, odnosno rješavat ćemo rubni problem\n",
    "\\begin{align*}\n",
    "-u''(x) & = 16\\pi^2\\sin(4\\pi x),\\quad x\\in[0,1] \\\\\n",
    "u(0)= & u(1)=0.\n",
    "\\end{align*}\n",
    "\n",
    "Nije teško izračunati analitički da je rješenje ovog problema funkcija $u(x)=\\sin(4\\pi x)$"
   ]
  },
  {
   "cell_type": "code",
   "execution_count": 84,
   "metadata": {},
   "outputs": [],
   "source": [
    "def RHS_b(x):\n",
    "    return 16.0*np.pi*np.pi*np.sin(4.0*np.pi*x)\n"
   ]
  },
  {
   "cell_type": "markdown",
   "metadata": {},
   "source": [
    "U sljedećem dijelu koda odabiremo $n=5$ i uvodimo biblioteku za crtanje matplotlib"
   ]
  },
  {
   "cell_type": "code",
   "execution_count": 85,
   "metadata": {},
   "outputs": [],
   "source": [
    "n1=5\n",
    "n11=n1+2\n",
    "x1=np.linspace(0,1,n11)\n",
    "import matplotlib.pyplot as plt"
   ]
  },
  {
   "cell_type": "markdown",
   "metadata": {},
   "source": [
    "Sad postavljamo vektore za $n=5$ i rješavamo sustav"
   ]
  },
  {
   "cell_type": "code",
   "execution_count": 88,
   "metadata": {},
   "outputs": [],
   "source": [
    "a,b,c,f=set_abcf(x1,0,0)\n",
    "a,b,c=LUdecomptridiagonal(a,b,c)\n",
    "u=LUsolvetridiagonal(a,b,c,f)"
   ]
  },
  {
   "cell_type": "markdown",
   "metadata": {},
   "source": [
    "Definiramo i funkciju koja je egzaktno rješenje našeg problema da vidimo koliko je aprokimacija dobra"
   ]
  },
  {
   "cell_type": "code",
   "execution_count": 70,
   "metadata": {},
   "outputs": [],
   "source": [
    "def Exact_solution(x):\n",
    "    return np.sin(4.0*np.pi*x)"
   ]
  },
  {
   "cell_type": "markdown",
   "metadata": {},
   "source": [
    "Sada plotamo egzaktno rješenje, i naše aproksimacije prikazane crvenim točkama"
   ]
  },
  {
   "cell_type": "code",
   "execution_count": 89,
   "metadata": {},
   "outputs": [
    {
     "data": {
      "text/plain": [
       "[<matplotlib.lines.Line2D at 0x213820a1ba8>]"
      ]
     },
     "execution_count": 89,
     "metadata": {},
     "output_type": "execute_result"
    },
    {
     "data": {
      "image/png": "[encoded data removed]",
      "text/plain": [
       "<matplotlib.figure.Figure at 0x213820a1e10>"
      ]
     },
     "metadata": {},
     "output_type": "display_data"
    }
   ],
   "source": [
    "n=len(x1)\n",
    "z1=np.linspace(0,1,1000)\n",
    "plt.plot(x1[1:n-1],u, \"ro\")\n",
    "plt.plot(z1, Exact_solution(z1))"
   ]
  },
  {
   "cell_type": "markdown",
   "metadata": {},
   "source": [
    "Sada ćemo uzeti gušću mrežu i vidjeti hoće li naša aproksimacija rješenja u danim točkama biti bolja"
   ]
  },
  {
   "cell_type": "code",
   "execution_count": 99,
   "metadata": {},
   "outputs": [
    {
     "data": {
      "text/plain": [
       "[<matplotlib.lines.Line2D at 0x21382277588>]"
      ]
     },
     "execution_count": 99,
     "metadata": {},
     "output_type": "execute_result"
    },
    {
     "data": {
      "image/png": "[encoded data removed]",
      "text/plain": [
       "<matplotlib.figure.Figure at 0x21382277438>"
      ]
     },
     "metadata": {},
     "output_type": "display_data"
    }
   ],
   "source": [
    "n3=20\n",
    "n33=n3+2\n",
    "x3=np.linspace(0,1,n33)\n",
    "a,b,c,f=set_abcf(x3,0,0)\n",
    "a,b,c=LUdecomptridiagonal(a,b,c)\n",
    "u=LUsolvetridiagonal(a,b,c,f)\n",
    "plt.plot(z1, Exact_solution(z1))\n",
    "z1=np.linspace(0,1,1000)\n",
    "plt.plot(x3[1:n33-1],u, \"go\")\n",
    "plt.plot(z1, Exact_solution(z1))\n"
   ]
  },
  {
   "cell_type": "markdown",
   "metadata": {},
   "source": [
    "Vidimo da povećanjem broja točaka dobiamo i bolju aprokcimaciju rješenja."
   ]
  },
  {
   "cell_type": "markdown",
   "metadata": {},
   "source": [
    "# Mogući problemi (podsjetnik s prethodnog predavanja)\n",
    "Razmislimo sada koji nam se **problemi** mogu javiti prilikom provođenja $LU$ faktorizacije. To su\n",
    "1. **Pivotni element je 0.**\n",
    "\n",
    "\n",
    "Npr.Imamo matricu $A=\\begin{bmatrix} 0& 1\\\\\n",
    "1&0\\end{bmatrix}$ i želimo provesti algoritam za $LU$ faktorizaciju koji smo opisali, naići ćemo na problem: *Možemo li uopće poništiti element $a_{21}$? Znači li to da $LU$ faktorizacija ne postoji*\n",
    "\n",
    "\n",
    "**Uočimo!**Ako zamijenimo retke ove matrice \"problem\" iz gornjih pitanja nestaje :).\n",
    "\n",
    "**Pitanje!** Ima li svaka regularna matrica $LU$ rastav? \n",
    "\n",
    "(odgovor: Nema, kao što to vidimo u primjeru za gornju matricu $A$, jer navedena matrica je regularna. Nadalje, postoje i singularne matrice koje imaju $LU$ rastav. Primjer jedna takve matrice je $B=\\begin{bmatrix}1&1\\\\1& 1\\end{bmatrix}$)\n",
    "\n",
    "\n",
    "2.** Ako imamo malu vrijednost za pivotni element! **\n",
    "\n"
   ]
  },
  {
   "cell_type": "markdown",
   "metadata": {},
   "source": [
    "# Pivotiranje"
   ]
  },
  {
   "cell_type": "markdown",
   "metadata": {},
   "source": [
    "Sada ćemo opisati kada nastaje potreba za \"pivotiranjem\""
   ]
  },
  {
   "cell_type": "code",
   "execution_count": 117,
   "metadata": {},
   "outputs": [
    {
     "data": {
      "text/html": [
       "\n",
       "        <iframe\n",
       "            width=\"400\"\n",
       "            height=\"300\"\n",
       "            src=\"https://www.youtube.com/embed/97PMccV56v8\"\n",
       "            frameborder=\"0\"\n",
       "            allowfullscreen\n",
       "        ></iframe>\n",
       "        "
      ],
      "text/plain": [
       "<IPython.lib.display.YouTubeVideo at 0x2192ec06588>"
      ]
     },
     "metadata": {},
     "output_type": "display_data"
    }
   ],
   "source": [
    "from IPython.lib.display import YouTubeVideo\n",
    "vid = YouTubeVideo(\"97PMccV56v8\")\n",
    "display(vid)"
   ]
  },
  {
   "cell_type": "markdown",
   "metadata": {},
   "source": [
    "Provedimo sada algoritam $LU$ faktorizacije s parcijalnim pivotiranjem na primjeru jedne matrice reda $4\\times 4$"
   ]
  },
  {
   "cell_type": "code",
   "execution_count": 116,
   "metadata": {},
   "outputs": [
    {
     "data": {
      "image/jpeg": "[encoded data removed]",
      "text/html": [
       "\n",
       "        <iframe\n",
       "            width=\"400\"\n",
       "            height=\"300\"\n",
       "            src=\"https://www.youtube.com/embed/kNbNvxmdJho\"\n",
       "            frameborder=\"0\"\n",
       "            allowfullscreen\n",
       "        ></iframe>\n",
       "        "
      ],
      "text/plain": [
       "<IPython.lib.display.YouTubeVideo at 0x2192ebf9588>"
      ]
     },
     "metadata": {},
     "output_type": "display_data"
    }
   ],
   "source": [
    "from IPython.lib.display import YouTubeVideo\n",
    "vid = YouTubeVideo(\"kNbNvxmdJho\")\n",
    "display(vid)"
   ]
  },
  {
   "cell_type": "markdown",
   "metadata": {},
   "source": [
    "U sljedećem predavanju govorit ćemo o implementaciji ove metode kao i o skraćenom zapisu rješavanja sustava iz kojeg možemo iščitati matrice P, L, U"
   ]
  }
 ],
 "metadata": {
  "kernelspec": {
   "display_name": "Python 3",
   "language": "python",
   "name": "python3"
  },
  "language_info": {
   "codemirror_mode": {
    "name": "ipython",
    "version": 3
   },
   "file_extension": ".py",
   "mimetype": "text/x-python",
   "name": "python",
   "nbconvert_exporter": "python",
   "pygments_lexer": "ipython3",
   "version": "3.6.4"
  }
 },
 "nbformat": 4,
 "nbformat_minor": 2
}
